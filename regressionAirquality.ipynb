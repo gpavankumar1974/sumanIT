{
 "cells": [
  {
   "cell_type": "code",
   "execution_count": 2,
   "metadata": {},
   "outputs": [
    {
     "name": "stdout",
     "output_type": "stream",
     "text": [
      "    Ozone Solar.R Wind Temp Month Day\n",
      "1      41     190  7.4   67     5   1\n",
      "2      36     118  8.0   72     5   2\n",
      "3      12     149 12.6   74     5   3\n",
      "4      18     313 11.5   62     5   4\n",
      "5      NA      NA 14.3   56     5   5\n",
      "6      28      NA 14.9   66     5   6\n",
      "7      23     299  8.6   65     5   7\n",
      "8      19      99 13.8   59     5   8\n",
      "9       8      19 20.1   61     5   9\n",
      "10     NA     194  8.6   69     5  10\n",
      "11      7      NA  6.9   74     5  11\n",
      "12     16     256  9.7   69     5  12\n",
      "13     11     290  9.2   66     5  13\n",
      "14     14     274 10.9   68     5  14\n",
      "15     18      65 13.2   58     5  15\n",
      "16     14     334 11.5   64     5  16\n",
      "17     34     307 12.0   66     5  17\n",
      "18      6      78 18.4   57     5  18\n",
      "19     30     322 11.5   68     5  19\n",
      "20     11      44  9.7   62     5  20\n",
      "21      1       8  9.7   59     5  21\n",
      "22     11     320 16.6   73     5  22\n",
      "23      4      25  9.7   61     5  23\n",
      "24     32      92 12.0   61     5  24\n",
      "25     NA      66 16.6   57     5  25\n",
      "26     NA     266 14.9   58     5  26\n",
      "27     NA      NA  8.0   57     5  27\n",
      "28     23      13 12.0   67     5  28\n",
      "29     45     252 14.9   81     5  29\n",
      "30    115     223  5.7   79     5  30\n",
      "31     37     279  7.4   76     5  31\n",
      "32     NA     286  8.6   78     6   1\n",
      "33     NA     287  9.7   74     6   2\n",
      "34     NA     242 16.1   67     6   3\n",
      "35     NA     186  9.2   84     6   4\n",
      "36     NA     220  8.6   85     6   5\n",
      "37     NA     264 14.3   79     6   6\n",
      "38     29     127  9.7   82     6   7\n",
      "39     NA     273  6.9   87     6   8\n",
      "40     71     291 13.8   90     6   9\n",
      "41     39     323 11.5   87     6  10\n",
      "42     NA     259 10.9   93     6  11\n",
      "43     NA     250  9.2   92     6  12\n",
      "44     23     148  8.0   82     6  13\n",
      "45     NA     332 13.8   80     6  14\n",
      "46     NA     322 11.5   79     6  15\n",
      "47     21     191 14.9   77     6  16\n",
      "48     37     284 20.7   72     6  17\n",
      "49     20      37  9.2   65     6  18\n",
      "50     12     120 11.5   73     6  19\n",
      "51     13     137 10.3   76     6  20\n",
      "52     NA     150  6.3   77     6  21\n",
      "53     NA      59  1.7   76     6  22\n",
      "54     NA      91  4.6   76     6  23\n",
      "55     NA     250  6.3   76     6  24\n",
      "56     NA     135  8.0   75     6  25\n",
      "57     NA     127  8.0   78     6  26\n",
      "58     NA      47 10.3   73     6  27\n",
      "59     NA      98 11.5   80     6  28\n",
      "60     NA      31 14.9   77     6  29\n",
      "61     NA     138  8.0   83     6  30\n",
      "62    135     269  4.1   84     7   1\n",
      "63     49     248  9.2   85     7   2\n",
      "64     32     236  9.2   81     7   3\n",
      "65     NA     101 10.9   84     7   4\n",
      "66     64     175  4.6   83     7   5\n",
      "67     40     314 10.9   83     7   6\n",
      "68     77     276  5.1   88     7   7\n",
      "69     97     267  6.3   92     7   8\n",
      "70     97     272  5.7   92     7   9\n",
      "71     85     175  7.4   89     7  10\n",
      "72     NA     139  8.6   82     7  11\n",
      "73     10     264 14.3   73     7  12\n",
      "74     27     175 14.9   81     7  13\n",
      "75     NA     291 14.9   91     7  14\n",
      "76      7      48 14.3   80     7  15\n",
      "77     48     260  6.9   81     7  16\n",
      "78     35     274 10.3   82     7  17\n",
      "79     61     285  6.3   84     7  18\n",
      "80     79     187  5.1   87     7  19\n",
      "81     63     220 11.5   85     7  20\n",
      "82     16       7  6.9   74     7  21\n",
      "83     NA     258  9.7   81     7  22\n",
      "84     NA     295 11.5   82     7  23\n",
      "85     80     294  8.6   86     7  24\n",
      "86    108     223  8.0   85     7  25\n",
      "87     20      81  8.6   82     7  26\n",
      "88     52      82 12.0   86     7  27\n",
      "89     82     213  7.4   88     7  28\n",
      "90     50     275  7.4   86     7  29\n",
      "91     64     253  7.4   83     7  30\n",
      "92     59     254  9.2   81     7  31\n",
      "93     39      83  6.9   81     8   1\n",
      "94      9      24 13.8   81     8   2\n",
      "95     16      77  7.4   82     8   3\n",
      "96     78      NA  6.9   86     8   4\n",
      "97     35      NA  7.4   85     8   5\n",
      "98     66      NA  4.6   87     8   6\n",
      "99    122     255  4.0   89     8   7\n",
      "100    89     229 10.3   90     8   8\n",
      "101   110     207  8.0   90     8   9\n",
      "102    NA     222  8.6   92     8  10\n",
      "103    NA     137 11.5   86     8  11\n",
      "104    44     192 11.5   86     8  12\n",
      "105    28     273 11.5   82     8  13\n",
      "106    65     157  9.7   80     8  14\n",
      "107    NA      64 11.5   79     8  15\n",
      "108    22      71 10.3   77     8  16\n",
      "109    59      51  6.3   79     8  17\n",
      "110    23     115  7.4   76     8  18\n",
      "111    31     244 10.9   78     8  19\n",
      "112    44     190 10.3   78     8  20\n",
      "113    21     259 15.5   77     8  21\n",
      "114     9      36 14.3   72     8  22\n",
      "115    NA     255 12.6   75     8  23\n",
      "116    45     212  9.7   79     8  24\n",
      "117   168     238  3.4   81     8  25\n",
      "118    73     215  8.0   86     8  26\n",
      "119    NA     153  5.7   88     8  27\n",
      "120    76     203  9.7   97     8  28\n",
      "121   118     225  2.3   94     8  29\n",
      "122    84     237  6.3   96     8  30\n",
      "123    85     188  6.3   94     8  31\n",
      "124    96     167  6.9   91     9   1\n",
      "125    78     197  5.1   92     9   2\n",
      "126    73     183  2.8   93     9   3\n",
      "127    91     189  4.6   93     9   4\n",
      "128    47      95  7.4   87     9   5\n",
      "129    32      92 15.5   84     9   6\n",
      "130    20     252 10.9   80     9   7\n",
      "131    23     220 10.3   78     9   8\n",
      "132    21     230 10.9   75     9   9\n",
      "133    24     259  9.7   73     9  10\n",
      "134    44     236 14.9   81     9  11\n",
      "135    21     259 15.5   76     9  12\n",
      "136    28     238  6.3   77     9  13\n",
      "137     9      24 10.9   71     9  14\n",
      "138    13     112 11.5   71     9  15\n",
      "139    46     237  6.9   78     9  16\n",
      "140    18     224 13.8   67     9  17\n",
      "141    13      27 10.3   76     9  18\n",
      "142    24     238 10.3   68     9  19\n",
      "143    16     201  8.0   82     9  20\n",
      "144    13     238 12.6   64     9  21\n",
      "145    23      14  9.2   71     9  22\n",
      "146    36     139 10.3   81     9  23\n",
      "147     7      49 10.3   69     9  24\n",
      "148    14      20 16.6   63     9  25\n",
      "149    30     193  6.9   70     9  26\n",
      "150    NA     145 13.2   77     9  27\n",
      "151    14     191 14.3   75     9  28\n",
      "152    18     131  8.0   76     9  29\n",
      "153    20     223 11.5   68     9  30\n"
     ]
    }
   ],
   "source": [
    "#library(e1071)\n",
    "data(\"airquality\")\n",
    "mydata <- airquality\n",
    "print(mydata)\n",
    "mydata <- na.omit(mydata)\n",
    "#print(summary(mydata))"
   ]
  },
  {
   "cell_type": "code",
   "execution_count": 3,
   "metadata": {},
   "outputs": [
    {
     "data": {
      "image/png": "[encoded data removed]",
      "text/plain": [
       "Plot with title \"Ozone~temp\""
      ]
     },
     "metadata": {},
     "output_type": "display_data"
    }
   ],
   "source": [
    "## Ozone(Y) Vs temp (x)\n",
    "par(mfrow=c(2, 2))  \n",
    "scatter.smooth(x=mydata$Temp,y=mydata$Ozone, main=\"Ozone~temp\")"
   ]
  },
  {
   "cell_type": "code",
   "execution_count": 5,
   "metadata": {},
   "outputs": [
    {
     "name": "stdout",
     "output_type": "stream",
     "text": [
      "[1] 0.6985414\n"
     ]
    }
   ],
   "source": [
    "cr <- cor(mydata$Ozone, mydata$Temp)\n",
    "print(cr)"
   ]
  },
  {
   "cell_type": "code",
   "execution_count": 6,
   "metadata": {},
   "outputs": [
    {
     "name": "stdout",
     "output_type": "stream",
     "text": [
      "\n",
      "Call:\n",
      "lm(formula = mydata$Ozone ~ mydata$Temp, data = mydata)\n",
      "\n",
      "Coefficients:\n",
      "(Intercept)  mydata$Temp  \n",
      "   -147.646        2.439  \n",
      "\n"
     ]
    }
   ],
   "source": [
    "linearMod <- lm(mydata$Ozone~ mydata$Temp, data=mydata) \n",
    "print(linearMod)\n"
   ]
  },
  {
   "cell_type": "code",
   "execution_count": 7,
   "metadata": {},
   "outputs": [
    {
     "data": {
      "text/plain": [
       "\n",
       "Call:\n",
       "lm(formula = mydata$Ozone ~ mydata$Temp, data = mydata)\n",
       "\n",
       "Residuals:\n",
       "    Min      1Q  Median      3Q     Max \n",
       "-40.922 -17.459  -0.874  10.444 118.078 \n",
       "\n",
       "Coefficients:\n",
       "             Estimate Std. Error t value Pr(>|t|)    \n",
       "(Intercept) -147.6461    18.7553  -7.872 2.76e-12 ***\n",
       "mydata$Temp    2.4391     0.2393  10.192  < 2e-16 ***\n",
       "---\n",
       "Signif. codes:  0 '***' 0.001 '**' 0.01 '*' 0.05 '.' 0.1 ' ' 1\n",
       "\n",
       "Residual standard error: 23.92 on 109 degrees of freedom\n",
       "Multiple R-squared:  0.488,\tAdjusted R-squared:  0.4833 \n",
       "F-statistic: 103.9 on 1 and 109 DF,  p-value: < 2.2e-16\n"
      ]
     },
     "metadata": {},
     "output_type": "display_data"
    }
   ],
   "source": [
    "summary(linearMod)"
   ]
  },
  {
   "cell_type": "code",
   "execution_count": 8,
   "metadata": {},
   "outputs": [],
   "source": [
    "# Create Training and Test data -\n",
    "set.seed(100)  # setting seed to reproduce results of random sampling\n",
    "trainingRowIndex <- sample(1:nrow(mydata), 0.8*nrow(mydata))  # row indices for training data\n",
    "trainingData <- mydata[trainingRowIndex, ]  # model training data\n",
    "testData  <- mydata[-trainingRowIndex, ]   # test data"
   ]
  },
  {
   "cell_type": "code",
   "execution_count": 9,
   "metadata": {},
   "outputs": [
    {
     "name": "stdout",
     "output_type": "stream",
     "text": [
      "        1         4         7        12        13        29        40        49 \n",
      "15.774291  3.578742 10.896071 20.652511 13.335181 49.921830 71.873819 10.896071 \n",
      "       64        67        73        74        76        86        88        93 \n",
      "49.921830 54.800050 30.408951 49.921830 47.482720 59.678270 62.117379 49.921830 \n",
      "      105       108       111       122       137       152       153 \n",
      "52.360940 40.165390 42.604500 86.508479 25.530731 37.726280 18.213401 \n"
     ]
    }
   ],
   "source": [
    " # Build the model on training data -\n",
    "linearMod2 <- lm(Ozone ~ Temp, data=mydata) \n",
    "distPred <- predict(linearMod2, testData)  # predict distance\n",
    "print(distPred )"
   ]
  },
  {
   "cell_type": "code",
   "execution_count": 10,
   "metadata": {},
   "outputs": [
    {
     "data": {
      "image/png": "[encoded data removed]",
      "text/plain": [
       "Plot with title \" Regression\""
      ]
     },
     "metadata": {},
     "output_type": "display_data"
    }
   ],
   "source": [
    "plot(mydata$Ozone ~ mydata$Temp,col = \"red\",main = \" Regression\")\n",
    "abline(lm(mydata$Ozone ~ mydata$Temp))"
   ]
  },
  {
   "cell_type": "code",
   "execution_count": 11,
   "metadata": {},
   "outputs": [
    {
     "data": {
      "text/html": [
       "0.698541409648639"
      ],
      "text/latex": [
       "0.698541409648639"
      ],
      "text/markdown": [
       "0.698541409648639"
      ],
      "text/plain": [
       "[1] 0.6985414"
      ]
     },
     "metadata": {},
     "output_type": "display_data"
    }
   ],
   "source": [
    "cor(mydata$Ozone, mydata$Temp, method = \"pearson\", use = \"complete.obs\")"
   ]
  },
  {
   "cell_type": "code",
   "execution_count": 14,
   "metadata": {},
   "outputs": [
    {
     "data": {},
     "metadata": {},
     "output_type": "display_data"
    },
    {
     "data": {
      "image/png": "[encoded data removed]",
      "text/plain": [
       "plot without title"
      ]
     },
     "metadata": {},
     "output_type": "display_data"
    }
   ],
   "source": [
    "library(ggplot2)\n",
    "ggplot(mydata, aes(Ozone,Temp)) + geom_point() +\n",
    "  geom_smooth(method = \"lm\", se = FALSE) +\n",
    "  ylab(\"Ozone\") +\n",
    "  xlab(\"temp\") +\n",
    "  ggtitle(\"Ozone Vs Temp\")\n"
   ]
  },
  {
   "cell_type": "code",
   "execution_count": 15,
   "metadata": {},
   "outputs": [
    {
     "name": "stderr",
     "output_type": "stream",
     "text": [
      "`geom_smooth()` using method = 'loess' and formula 'y ~ x'\n"
     ]
    },
    {
     "data": {},
     "metadata": {},
     "output_type": "display_data"
    },
    {
     "data": {
      "image/png": "[encoded data removed]",
      "text/plain": [
       "plot without title"
      ]
     },
     "metadata": {},
     "output_type": "display_data"
    }
   ],
   "source": [
    "ggplot(mydata, aes(Ozone,Temp)) +\n",
    "  stat_smooth() + geom_point() +\n",
    "  ylab(\"Ozone\") +\n",
    "  xlab(\"temp\") +\n",
    "  ggtitle(\"Ozone Vs Temp\")"
   ]
  },
  {
   "cell_type": "code",
   "execution_count": null,
   "metadata": {},
   "outputs": [],
   "source": []
  }
 ],
 "metadata": {
  "kernelspec": {
   "display_name": "R",
   "language": "R",
   "name": "ir"
  },
  "language_info": {
   "codemirror_mode": "r",
   "file_extension": ".r",
   "mimetype": "text/x-r-source",
   "name": "R",
   "pygments_lexer": "r",
   "version": "3.5.0"
  }
 },
 "nbformat": 4,
 "nbformat_minor": 2
}
